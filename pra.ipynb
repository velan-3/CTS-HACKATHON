{
 "cells": [
  {
   "cell_type": "code",
   "execution_count": 7,
   "metadata": {},
   "outputs": [
    {
     "name": "stdout",
     "output_type": "stream",
     "text": [
      "Invalid Input Exception: ISBN must be exactly 9 digits.\n"
     ]
    }
   ],
   "source": [
    "class InvalidInputException(Exception):\n",
    "    \"\"\"Custom exception for invalid input.\"\"\"\n",
    "    pass\n",
    "\n",
    "class NumberManipulation:\n",
    "    def __init__(self):\n",
    "        self.digits = [0] * 9  # Array to hold the 9 digits\n",
    "    \n",
    "    def extract_digits(self, number):\n",
    "        \"\"\"Extract digits from the input number and validate the format.\"\"\"\n",
    "        if len(number) != 9 or not number.isdigit():\n",
    "            raise InvalidInputException(\"Invalid Input Exception: ISBN must be exactly 9 digits.\")\n",
    "        \n",
    "        # Extract digits and store them in the array\n",
    "        self.digits = [int(digit) for digit in number]\n",
    "\n",
    "    def find_last_digit(self):\n",
    "        \"\"\"Calculate the last digit (checksum) based on the first 9 digits.\"\"\"\n",
    "        sum_value = sum(self.digits[i] * (i + 1) for i in range(9))\n",
    "        checksum = sum_value % 11\n",
    "\n",
    "        # Return 'X' if checksum is 10, otherwise return the checksum value\n",
    "        return 'X' if checksum == 10 else str(checksum)\n",
    "\n",
    "def main():\n",
    "    import sys\n",
    "    input_number = input(\"Enter a 9-digit number: \").strip()\n",
    "    \n",
    "    number_manipulation = NumberManipulation()\n",
    "    \n",
    "    try:\n",
    "        # Extract digits and calculate the last digit\n",
    "        number_manipulation.extract_digits(input_number)\n",
    "        last_digit = number_manipulation.find_last_digit()\n",
    "        \n",
    "        # Print the new ISBN\n",
    "        new_isbn = input_number + last_digit\n",
    "        print(\"ISBN:\", new_isbn)\n",
    "    except InvalidInputException as e:\n",
    "        # Handle invalid input\n",
    "        print(e)\n",
    "\n",
    "if __name__ == \"__main__\":\n",
    "    main()\n"
   ]
  },
  {
   "cell_type": "code",
   "execution_count": 9,
   "metadata": {},
   "outputs": [
    {
     "ename": "",
     "evalue": "",
     "output_type": "error",
     "traceback": [
      "\u001b[1;31mThe Kernel crashed while executing code in the current cell or a previous cell. \n",
      "\u001b[1;31mPlease review the code in the cell(s) to identify a possible cause of the failure. \n",
      "\u001b[1;31mClick <a href='https://aka.ms/vscodeJupyterKernelCrash'>here</a> for more info. \n",
      "\u001b[1;31mView Jupyter <a href='command:jupyter.viewOutput'>log</a> for further details."
     ]
    }
   ],
   "source": [
    "class InvalidInputException(Exception):\n",
    "    def _init_(self, message):\n",
    "        self.message = message\n",
    "        super()._init_(self.message)\n",
    "\n",
    "class NumberManipulation:\n",
    "    def _init_(self):\n",
    "        self.digits = []\n",
    "\n",
    "    def extractDigits(self, number):\n",
    "        if len(str(number)) != 9:\n",
    "            raise InvalidInputException(\"InvalidInputException: ISBN must be exactly 9 digits\")\n",
    "        self.digits = [int(digit) for digit in str(number)]\n",
    "    \n",
    "    def findLastDigit(self):\n",
    "        checksum = sum((i + 1) * self.digits[i] for i in range(9))\n",
    "        last_digit = checksum % 11\n",
    "        return 'X' if last_digit == 10 else str(last_digit)\n",
    "\n",
    "def main():\n",
    "    isbn_input = input(\"enter the number\").strip()\n",
    "    try:\n",
    "        \n",
    "        number = int(isbn_input)\n",
    "        number_manipulation = NumberManipulation()\n",
    "        number_manipulation.extractDigits(number)\n",
    "        last_digit = number_manipulation.findLastDigit()\n",
    "        print(f\"ISBN : {isbn_input}{last_digit}\")\n",
    "    except InvalidInputException as e:\n",
    "        print(e.message)\n",
    "\n",
    "if __name__ == \"_main_\":\n",
    "    main()"
   ]
  },
  {
   "cell_type": "code",
   "execution_count": null,
   "metadata": {},
   "outputs": [],
   "source": [
    "from datetime import datetime\n",
    "\n",
    "def validate_time_format(time_str):\n",
    "    try:\n",
    "        datetime.strptime(time_str, '%Y-%m-%d %H:%M:%S')\n",
    "        return True\n",
    "    except ValueError:\n",
    "        return False\n",
    "\n",
    "def main():\n",
    "    start_time = input()\n",
    "    end_time = input()\n",
    "    \n",
    "    if validate_time_format(start_time) and validate_time_format(end_time):\n",
    "        print(f\"Start time: {start_time}\")\n",
    "        print(f\"End time: {end_time}\")\n",
    "    else:\n",
    "        print(\"Event time should be in the format 'YYYY-MM-DD HH:MM:SS'\") ##idhuku sample output ku etha maadhiri change pannika da \n",
    "\n",
    "if __name__ == \"_main_\":\n",
    "    main()"
   ]
  }
 ],
 "metadata": {
  "kernelspec": {
   "display_name": "pytorchgpu",
   "language": "python",
   "name": "python3"
  },
  "language_info": {
   "codemirror_mode": {
    "name": "ipython",
    "version": 3
   },
   "file_extension": ".py",
   "mimetype": "text/x-python",
   "name": "python",
   "nbconvert_exporter": "python",
   "pygments_lexer": "ipython3",
   "version": "3.11.5"
  }
 },
 "nbformat": 4,
 "nbformat_minor": 2
}
