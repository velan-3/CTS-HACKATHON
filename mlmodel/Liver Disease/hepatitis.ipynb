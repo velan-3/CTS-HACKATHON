{
 "cells": [
  {
   "cell_type": "code",
   "execution_count": 1,
   "metadata": {},
   "outputs": [],
   "source": [
    "import pandas as pd\n",
    "from sklearn.model_selection import train_test_split\n",
    "from sklearn.preprocessing import LabelEncoder\n",
    "from sklearn.ensemble import RandomForestClassifier, GradientBoostingClassifier\n",
    "from sklearn.ensemble import StackingClassifier\n",
    "from sklearn.metrics import accuracy_score, classification_report\n",
    "import os\n",
    "import pickle\n"
   ]
  },
  {
   "cell_type": "code",
   "execution_count": 2,
   "metadata": {},
   "outputs": [
    {
     "name": "stdout",
     "output_type": "stream",
     "text": [
      "   Unnamed: 0  Age Sex   ALP   ALT   AST   CREA       Category\n",
      "0           1   32   m  52.5   7.7  22.1  106.0  0=Blood Donor\n",
      "1           2   32   m  70.3  18.0  24.7   74.0  0=Blood Donor\n",
      "2           3   32   m  74.7  36.2  52.6   86.0  0=Blood Donor\n",
      "3           4   32   m  52.0  30.6  22.6   80.0  0=Blood Donor\n",
      "4           5   32   m  74.1  32.6  24.8   76.0  0=Blood Donor\n",
      "Unnamed: 0     0\n",
      "Age            0\n",
      "Sex            0\n",
      "ALP           18\n",
      "ALT            1\n",
      "AST            0\n",
      "CREA           0\n",
      "Category       0\n",
      "dtype: int64\n"
     ]
    }
   ],
   "source": [
    "# Load the dataset\n",
    "file_path = 'D:/Projects/LLM Models/mlmodel/Liver Disease/hepatitis_C.csv'\n",
    "data = pd.read_csv(file_path)\n",
    "\n",
    "# Display the first few rows of the dataset\n",
    "print(data.head())\n",
    "\n",
    "# Check for missing values\n",
    "print(data.isnull().sum())\n"
   ]
  },
  {
   "cell_type": "code",
   "execution_count": 3,
   "metadata": {},
   "outputs": [],
   "source": [
    "# Drop the 'Unnamed: 0' column\n",
    "data = data.drop(columns=['Unnamed: 0'])\n",
    "\n",
    "# Drop rows with missing values\n",
    "data = data.dropna()\n",
    "\n",
    "# Convert categorical variables\n",
    "label_encoder = LabelEncoder()\n",
    "data['Sex'] = label_encoder.fit_transform(data['Sex'])\n",
    "data['Category'] = label_encoder.fit_transform(data['Category'])"
   ]
  },
  {
   "cell_type": "code",
   "execution_count": 4,
   "metadata": {},
   "outputs": [
    {
     "name": "stdout",
     "output_type": "stream",
     "text": [
      "0      0\n",
      "1      0\n",
      "2      0\n",
      "3      0\n",
      "4      0\n",
      "      ..\n",
      "608    4\n",
      "609    4\n",
      "610    4\n",
      "611    4\n",
      "612    4\n",
      "Name: Category, Length: 596, dtype: int32\n"
     ]
    }
   ],
   "source": [
    "print(data['Category'])"
   ]
  },
  {
   "cell_type": "code",
   "execution_count": 5,
   "metadata": {},
   "outputs": [
    {
     "name": "stdout",
     "output_type": "stream",
     "text": [
      "Age         0\n",
      "Sex         0\n",
      "ALP         0\n",
      "ALT         0\n",
      "AST         0\n",
      "CREA        0\n",
      "Category    0\n",
      "dtype: int64\n"
     ]
    }
   ],
   "source": [
    "# Check for missing values\n",
    "print(data.isnull().sum())"
   ]
  },
  {
   "cell_type": "code",
   "execution_count": 6,
   "metadata": {},
   "outputs": [],
   "source": [
    "# Features (X) and target (y)\n",
    "X = data.drop(columns=['Category'])\n",
    "y = data['Category']\n",
    "\n",
    "# Split the data into training and testing sets\n",
    "X_train, X_test, y_train, y_test = train_test_split(X, y, test_size=0.2, random_state=42)\n"
   ]
  },
  {
   "cell_type": "code",
   "execution_count": 9,
   "metadata": {},
   "outputs": [
    {
     "name": "stderr",
     "output_type": "stream",
     "text": [
      "d:\\Projects\\LLM Models\\env\\lib\\site-packages\\sklearn\\model_selection\\_split.py:737: UserWarning: The least populated class in y has only 4 members, which is less than n_splits=5.\n",
      "  warnings.warn(\n",
      "d:\\Projects\\LLM Models\\env\\lib\\site-packages\\sklearn\\model_selection\\_split.py:737: UserWarning: The least populated class in y has only 4 members, which is less than n_splits=5.\n",
      "  warnings.warn(\n",
      "d:\\Projects\\LLM Models\\env\\lib\\site-packages\\sklearn\\model_selection\\_split.py:737: UserWarning: The least populated class in y has only 4 members, which is less than n_splits=5.\n",
      "  warnings.warn(\n",
      "d:\\Projects\\LLM Models\\env\\lib\\site-packages\\sklearn\\model_selection\\_split.py:737: UserWarning: The least populated class in y has only 4 members, which is less than n_splits=5.\n",
      "  warnings.warn(\n"
     ]
    },
    {
     "name": "stdout",
     "output_type": "stream",
     "text": [
      "Model saved at: mlmodel/Liver Disease/saved_models\\hepatitis_stacking_model.pkl\n"
     ]
    }
   ],
   "source": [
    "# Define base models\n",
    "base_models = [\n",
    "    ('rf', RandomForestClassifier(random_state=42)),\n",
    "    ('gb', GradientBoostingClassifier(random_state=42))\n",
    "]\n",
    "\n",
    "# Define the meta model\n",
    "meta_model = GradientBoostingClassifier(random_state=42)\n",
    "\n",
    "# Create the Stacking ensemble model\n",
    "stacking_model = StackingClassifier(estimators=base_models, final_estimator=meta_model, cv=5)\n",
    "\n",
    "# Train the model\n",
    "stacking_model.fit(X_train, y_train)\n",
    "stacking_model.fit(X_train, y_train)\n",
    "folder_path = 'mlmodel/Liver Disease/saved_models'\n",
    "os.makedirs(folder_path, exist_ok=True)  # Create the folder if it doesn't exist\n",
    "\n",
    "# Define the file name and path for the pickle file\n",
    "model_file_path = os.path.join(folder_path, 'hepatitis_stacking_model.pkl')\n",
    "\n",
    "# Save the trained stacking model as a pickle file\n",
    "with open(model_file_path, 'wb') as model_file:\n",
    "    pickle.dump(stacking_model, model_file)\n",
    "\n",
    "print(f'Model saved at: {model_file_path}')\n"
   ]
  },
  {
   "cell_type": "code",
   "execution_count": 19,
   "metadata": {},
   "outputs": [
    {
     "name": "stdout",
     "output_type": "stream",
     "text": [
      "Accuracy: 91.67%\n",
      "Classification Report:\n",
      "               precision    recall  f1-score   support\n",
      "\n",
      "           0       0.96      1.00      0.98       104\n",
      "           1       0.50      0.33      0.40         3\n",
      "           2       0.50      0.20      0.29         5\n",
      "           3       0.00      0.00      0.00         2\n",
      "           4       0.67      0.67      0.67         6\n",
      "\n",
      "    accuracy                           0.92       120\n",
      "   macro avg       0.53      0.44      0.47       120\n",
      "weighted avg       0.90      0.92      0.91       120\n",
      "\n"
     ]
    }
   ],
   "source": [
    "# Make predictions on the test set\n",
    "y_pred = stacking_model.predict(X_test)\n",
    "\n",
    "# Evaluate the model\n",
    "accuracy = accuracy_score(y_test, y_pred)\n",
    "report = classification_report(y_test, y_pred)\n",
    "\n",
    "print(f\"Accuracy: {accuracy * 100:.2f}%\")\n",
    "print(\"Classification Report:\\n\", report)\n"
   ]
  },
  {
   "cell_type": "code",
   "execution_count": 20,
   "metadata": {},
   "outputs": [
    {
     "name": "stdout",
     "output_type": "stream",
     "text": [
      "No Disease\n"
     ]
    },
    {
     "name": "stderr",
     "output_type": "stream",
     "text": [
      "C:\\Users\\HP\\AppData\\Local\\Packages\\PythonSoftwareFoundation.Python.3.11_qbz5n2kfra8p0\\LocalCache\\local-packages\\Python311\\site-packages\\sklearn\\base.py:493: UserWarning: X does not have valid feature names, but RandomForestClassifier was fitted with feature names\n",
      "  warnings.warn(\n",
      "C:\\Users\\HP\\AppData\\Local\\Packages\\PythonSoftwareFoundation.Python.3.11_qbz5n2kfra8p0\\LocalCache\\local-packages\\Python311\\site-packages\\sklearn\\base.py:493: UserWarning: X does not have valid feature names, but GradientBoostingClassifier was fitted with feature names\n",
      "  warnings.warn(\n"
     ]
    }
   ],
   "source": [
    "import numpy as np\n",
    "\n",
    "# Define the prediction function\n",
    "def predict_hepatitis_disease(input_data):\n",
    "    \"\"\"\n",
    "    Predicts whether a person has Hepatitis, Fibrosis, Cirrhosis, or No Disease.\n",
    "    \n",
    "    Args:\n",
    "    input_data: A list containing the following features in order:\n",
    "                [Age, Sex (0 for Female, 1 for Male), ALP, ALT, AST, CREA]\n",
    "    \n",
    "    Returns:\n",
    "    A string indicating the predicted disease status.\n",
    "    \"\"\"\n",
    "    # Convert input data to a numpy array and reshape for prediction\n",
    "    input_data = np.array(input_data).reshape(1, -1)\n",
    "    \n",
    "    # Predict using the trained stacking model\n",
    "    prediction = stacking_model.predict(input_data)\n",
    "    \n",
    "    # Map the prediction to the corresponding disease status\n",
    "    disease_map = {\n",
    "        0: 'No Disease',\n",
    "        1: 'Hepatitis',\n",
    "        2: 'Fibrosis',\n",
    "        3: 'Cirrhosis',\n",
    "        4: 'Blood Donor'\n",
    "    }\n",
    "    \n",
    "    # Return the predicted disease status\n",
    "    return disease_map.get(prediction[0], 'Unknown')\n",
    "\n",
    "# Example usage:\n",
    "# input_data = [Age, Sex (0 for Female, 1 for Male), ALP, ALT, AST, CREA]\n",
    "example_input = [32, 1, 74.1, 32.6, 24.8, 76.0]\n",
    "prediction = predict_hepatitis_disease(example_input)\n",
    "print(prediction)\n"
   ]
  },
  {
   "cell_type": "code",
   "execution_count": 10,
   "metadata": {},
   "outputs": [
    {
     "name": "stdout",
     "output_type": "stream",
     "text": [
      "Hepatitis\n"
     ]
    },
    {
     "name": "stderr",
     "output_type": "stream",
     "text": [
      "d:\\Projects\\LLM Models\\env\\lib\\site-packages\\sklearn\\base.py:493: UserWarning: X does not have valid feature names, but RandomForestClassifier was fitted with feature names\n",
      "  warnings.warn(\n",
      "d:\\Projects\\LLM Models\\env\\lib\\site-packages\\sklearn\\base.py:493: UserWarning: X does not have valid feature names, but GradientBoostingClassifier was fitted with feature names\n",
      "  warnings.warn(\n"
     ]
    }
   ],
   "source": [
    "import numpy as np\n",
    "\n",
    "# Define the prediction function\n",
    "with open(model_file_path, 'rb') as model_file:\n",
    "    loaded_stacking_model = pickle.load(model_file)\n",
    "def predict_hepatitis_disease(input_data):\n",
    "    \"\"\"\n",
    "    Predicts whether a person has Hepatitis, Fibrosis, Cirrhosis, or No Disease.\n",
    "    \n",
    "    Args:\n",
    "    input_data: A list containing the following features in order:\n",
    "                [Age, Sex (0 for Female, 1 for Male), ALP, ALT, AST, CREA]\n",
    "    \n",
    "    Returns:\n",
    "    A string indicating the predicted disease status.\n",
    "    \"\"\"\n",
    "    # Convert input data to a numpy array and reshape for prediction\n",
    "    input_data = np.array(input_data).reshape(1, -1)\n",
    "    \n",
    "    # Predict using the trained stacking model\n",
    "    prediction = loaded_stacking_model.predict(input_data)\n",
    "    \n",
    "    # Map the prediction to the corresponding disease status\n",
    "    disease_map = {\n",
    "        0: 'No Disease',\n",
    "        1: 'Hepatitis',\n",
    "        2: 'Fibrosis',\n",
    "        3: 'Cirrhosis',\n",
    "        4: 'Blood Donor'\n",
    "    }\n",
    "    \n",
    "    # Return the predicted disease status\n",
    "    return disease_map.get(prediction[0], 'Unknown')\n",
    "\n",
    "# Example usage:\n",
    "# input_data = [Age, Sex (0 for Female, 1 for Male), ALP, ALT, AST, CREA]\n",
    "example_input = [32, 1, 150, 21, 11, 0.90]\n",
    "prediction = predict_hepatitis_disease(example_input)\n",
    "print(prediction)\n"
   ]
  },
  {
   "cell_type": "code",
   "execution_count": null,
   "metadata": {},
   "outputs": [],
   "source": []
  }
 ],
 "metadata": {
  "kernelspec": {
   "display_name": "Python 3",
   "language": "python",
   "name": "python3"
  },
  "language_info": {
   "codemirror_mode": {
    "name": "ipython",
    "version": 3
   },
   "file_extension": ".py",
   "mimetype": "text/x-python",
   "name": "python",
   "nbconvert_exporter": "python",
   "pygments_lexer": "ipython3",
   "version": "3.10.11"
  }
 },
 "nbformat": 4,
 "nbformat_minor": 2
}
