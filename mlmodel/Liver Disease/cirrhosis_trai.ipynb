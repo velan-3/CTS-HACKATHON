{
 "cells": [
  {
   "cell_type": "code",
   "execution_count": 10,
   "metadata": {},
   "outputs": [
    {
     "name": "stdout",
     "output_type": "stream",
     "text": [
      "Model Accuracy: 1.00\n"
     ]
    },
    {
     "name": "stderr",
     "output_type": "stream",
     "text": [
      "C:\\Users\\dhivy\\AppData\\Local\\Temp\\ipykernel_7908\\3435168987.py:20: FutureWarning: Downcasting behavior in `replace` is deprecated and will be removed in a future version. To retain the old behavior, explicitly call `result.infer_objects(copy=False)`. To opt-in to the future behavior, set `pd.set_option('future.no_silent_downcasting', True)`\n",
      "  data.replace({'o.4': 0.4}, inplace=True)\n"
     ]
    }
   ],
   "source": [
    "import pandas as pd\n",
    "from sklearn.model_selection import train_test_split\n",
    "from sklearn.ensemble import RandomForestClassifier\n",
    "from sklearn.impute import SimpleImputer\n",
    "from sklearn.pipeline import Pipeline   \n",
    "from sklearn.metrics import accuracy_score\n",
    "\n",
    "# Load the dataset\n",
    "file_path = 'Cirrhosis_Data.xlsx'\n",
    "data = pd.read_excel(file_path)\n",
    "\n",
    "# Preprocessing the data\n",
    "data = data.drop(columns=['S.NO'])\n",
    "data['Gender'] = data['Gender'].map({'male': 0, 'female': 1})\n",
    "data['Hepatitis_C_infection'] = data['Hepatitis_C_infection'].map({'negative': 0, 'positive': 1})\n",
    "data['Predicted Value'] = data['Predicted Value(Out Come-Patient suffering from liver  cirrosis or not)'].map({'YES': 1, 'NO': 0})\n",
    "data = data.drop(columns=['Predicted Value(Out Come-Patient suffering from liver  cirrosis or not)'])\n",
    "\n",
    "# Replace non-numeric entries with correct values\n",
    "data.replace({'o.4': 0.4}, inplace=True)\n",
    "data = data.apply(pd.to_numeric, errors='coerce')\n",
    "\n",
    "# Drop rows where the target variable is NaN\n",
    "data = data.dropna(subset=['Predicted Value'])\n",
    "\n",
    "# Separate the features and the target\n",
    "X = data.drop(columns=['Predicted Value'])\n",
    "y = data['Predicted Value']\n",
    "\n",
    "# Split the data into training and testing sets\n",
    "X_train, X_test, y_train, y_test = train_test_split(X, y, test_size=0.2, random_state=42)\n",
    "\n",
    "# Create a pipeline with an imputer and a random forest classifier\n",
    "pipeline = Pipeline(steps=[\n",
    "    ('imputer', SimpleImputer(strategy='mean')),\n",
    "    ('model', RandomForestClassifier(n_estimators=100, random_state=42))\n",
    "])\n",
    "\n",
    "# Train the model\n",
    "pipeline.fit(X_train, y_train)\n",
    "\n",
    "# Predict on the test set\n",
    "y_pred = pipeline.predict(X_test)\n",
    "\n",
    "# Evaluate the model\n",
    "accuracy = accuracy_score(y_test, y_pred)\n",
    "print(f\"Model Accuracy: {accuracy:.2f}\")\n"
   ]
  },
  {
   "cell_type": "code",
   "execution_count": 12,
   "metadata": {},
   "outputs": [
    {
     "name": "stdout",
     "output_type": "stream",
     "text": [
      "Predicted Value: YES\n"
     ]
    }
   ],
   "source": [
    "# Example of new data for prediction\n",
    "new_data = pd.DataFrame({\n",
    "    'Age': [87],\n",
    "    'Gender': [1],  # 0 for male, 1 for female\n",
    "    'Hepatitis_C_infection': [1],  # 0 for negative, 1 for positive\n",
    "    'Total Bilirubin(mg/dl)': [0.55],\n",
    "    'Direct(mg/dl)': [0.27],\n",
    "    'Indirect(mg/dl)': [0.28],\n",
    "    'Albumin(g/dl)': [3.59],\n",
    "    'Globulin(g/dl)': [2.37],\n",
    "    'A/G Ratio': [1.51],\n",
    "    'AL.Phosphatase(U/L)': [52.6],\n",
    "    'SGOT/AST(U/L)': [21.5],\n",
    "    'SGPT/ALT(U/L)': [12.3]\n",
    "})\n",
    "\n",
    "# Use the pipeline to predict the outcome\n",
    "predicted_value = pipeline.predict(new_data)\n",
    "\n",
    "# Print the predicted value\n",
    "print(f\"Predicted Value: {'YES' if predicted_value[0] == 1 else 'NO'}\")\n"
   ]
  },
  {
   "cell_type": "code",
   "execution_count": null,
   "metadata": {},
   "outputs": [],
   "source": []
  },
  {
   "cell_type": "code",
   "execution_count": null,
   "metadata": {},
   "outputs": [],
   "source": []
  },
  {
   "cell_type": "code",
   "execution_count": null,
   "metadata": {},
   "outputs": [],
   "source": []
  },
  {
   "cell_type": "code",
   "execution_count": null,
   "metadata": {},
   "outputs": [],
   "source": []
  }
 ],
 "metadata": {
  "kernelspec": {
   "display_name": "Python 3",
   "language": "python",
   "name": "python3"
  },
  "language_info": {
   "codemirror_mode": {
    "name": "ipython",
    "version": 3
   },
   "file_extension": ".py",
   "mimetype": "text/x-python",
   "name": "python",
   "nbconvert_exporter": "python",
   "pygments_lexer": "ipython3",
   "version": "3.11.9"
  }
 },
 "nbformat": 4,
 "nbformat_minor": 2
}
