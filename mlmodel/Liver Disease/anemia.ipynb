{
 "cells": [
  {
   "cell_type": "code",
   "execution_count": 5,
   "metadata": {},
   "outputs": [
    {
     "name": "stdout",
     "output_type": "stream",
     "text": [
      "   Gender  Hemoglobin   MCH  MCHC   MCV  Result\n",
      "0       1        14.9  22.7  29.1  83.7       0\n",
      "1       0        15.9  25.4  28.3  72.0       0\n",
      "2       0         9.0  21.5  29.6  71.2       1\n",
      "3       0        14.9  16.0  31.4  87.5       0\n",
      "4       1        14.7  22.0  28.2  99.5       0\n",
      "<class 'pandas.core.frame.DataFrame'>\n",
      "RangeIndex: 1421 entries, 0 to 1420\n",
      "Data columns (total 6 columns):\n",
      " #   Column      Non-Null Count  Dtype  \n",
      "---  ------      --------------  -----  \n",
      " 0   Gender      1421 non-null   int64  \n",
      " 1   Hemoglobin  1421 non-null   float64\n",
      " 2   MCH         1421 non-null   float64\n",
      " 3   MCHC        1421 non-null   float64\n",
      " 4   MCV         1421 non-null   float64\n",
      " 5   Result      1421 non-null   int64  \n",
      "dtypes: float64(4), int64(2)\n",
      "memory usage: 66.7 KB\n",
      "None\n",
      "Model saved at: mlmodel/Liver Disease/saved_models\\anemia_stacking_model.pkl\n",
      "Mean Squared Error: 0.00\n",
      "R^2 Score: 1.00\n",
      "lr - Mean Squared Error: 0.07, R^2 Score: 0.70\n",
      "rf - Mean Squared Error: 0.00, R^2 Score: 1.00\n",
      "dt - Mean Squared Error: 0.00, R^2 Score: 1.00\n",
      "svr - Mean Squared Error: 0.08, R^2 Score: 0.66\n"
     ]
    }
   ],
   "source": [
    "# Step 1: Import necessary libraries\n",
    "import pandas as pd\n",
    "import numpy as np\n",
    "import pickle\n",
    "import os\n",
    "from sklearn.model_selection import train_test_split, cross_val_score\n",
    "from sklearn.ensemble import RandomForestRegressor, GradientBoostingRegressor, StackingRegressor\n",
    "from sklearn.linear_model import LinearRegression\n",
    "from sklearn.tree import DecisionTreeRegressor\n",
    "from sklearn.svm import SVR\n",
    "from sklearn.metrics import mean_squared_error, r2_score\n",
    "\n",
    "# Step 2: Load the dataset\n",
    "data = pd.read_csv('D:/Projects/LLM Models/mlmodel/Liver Disease/anemia.csv')\n",
    "\n",
    "# Step 3: Data Preprocessing\n",
    "# Inspect the data\n",
    "print(data.head())\n",
    "print(data.info())\n",
    "\n",
    "# Handle missing values (if any)\n",
    "data = data.dropna()\n",
    "\n",
    "# Assuming the target variable is continuous and is named 'Result'\n",
    "X = data.drop(columns=['Result'])\n",
    "y = data['Result']\n",
    "\n",
    "# Encode categorical variables if necessary\n",
    "# X = pd.get_dummies(X, drop_first=True)\n",
    "\n",
    "# Step 4: Split the data into training and testing sets\n",
    "X_train, X_test, y_train, y_test = train_test_split(X, y, test_size=0.3, random_state=42)\n",
    "\n",
    "# Step 5: Build base models for regression\n",
    "base_models = [\n",
    "    ('lr', LinearRegression()),\n",
    "    ('rf', RandomForestRegressor(n_estimators=100)),\n",
    "    ('dt', DecisionTreeRegressor()),\n",
    "    ('svr', SVR())\n",
    "]\n",
    "\n",
    "# Step 6: Stacking\n",
    "# Meta-model for regression\n",
    "meta_model = GradientBoostingRegressor(n_estimators=100)\n",
    "\n",
    "# Stacking regressor\n",
    "stacking_model = StackingRegressor(estimators=base_models, final_estimator=meta_model, cv=5)\n",
    "\n",
    "# Step 7: Train and evaluate the model\n",
    "# Train the stacking model\n",
    "stacking_model.fit(X_train, y_train)\n",
    "folder_path = 'mlmodel/Liver Disease/saved_models'\n",
    "os.makedirs(folder_path, exist_ok=True)  # Create the folder if it doesn't exist\n",
    "\n",
    "# Define the file name and path for the pickle file\n",
    "model_file_path = os.path.join(folder_path, 'anemia_stacking_model.pkl')\n",
    "\n",
    "# Save the trained stacking model as a pickle file\n",
    "with open(model_file_path, 'wb') as model_file:\n",
    "    pickle.dump(stacking_model, model_file)\n",
    "\n",
    "print(f'Model saved at: {model_file_path}')\n",
    "\n",
    "# Predict on the test set\n",
    "y_pred = stacking_model.predict(X_test)\n",
    "\n",
    "# Evaluate the model\n",
    "mse = mean_squared_error(y_test, y_pred)\n",
    "r2 = r2_score(y_test, y_pred)\n",
    "print(f'Mean Squared Error: {mse:.2f}')\n",
    "print(f'R^2 Score: {r2:.2f}')\n",
    "\n",
    "# Optional: Compare with individual models (not shown in original classification code)\n",
    "for name, model in base_models:\n",
    "    model.fit(X_train, y_train)\n",
    "    model_pred = model.predict(X_test)\n",
    "    model_mse = mean_squared_error(y_test, model_pred)\n",
    "    model_r2 = r2_score(y_test, model_pred)\n",
    "    print(f'{name} - Mean Squared Error: {model_mse:.2f}, R^2 Score: {model_r2:.2f}')\n"
   ]
  },
  {
   "cell_type": "code",
   "execution_count": null,
   "metadata": {},
   "outputs": [],
   "source": [
    "# MCH: MCH is short for \"mean corpuscular hemoglobin.\" It's the average amount in each of your red blood cells of a protein called hemoglobin, which carries oxygen around your body.\n",
    "# MCHC: MCHC stands for mean corpuscular hemoglobin concentration. It's a measure of the average concentration of hemoglobin inside a single red blood cell.\n",
    "# MCV: MCV stands for mean corpuscular volume. An MCV blood test measures the average size of your red blood cells.\n",
    "# Results: 0- not anemic, 1-anemic\n",
    "\n"
   ]
  },
  {
   "cell_type": "code",
   "execution_count": 12,
   "metadata": {},
   "outputs": [
    {
     "name": "stdout",
     "output_type": "stream",
     "text": [
      "No Anemia\n"
     ]
    },
    {
     "name": "stderr",
     "output_type": "stream",
     "text": [
      "C:\\Users\\HP\\AppData\\Local\\Packages\\PythonSoftwareFoundation.Python.3.11_qbz5n2kfra8p0\\LocalCache\\local-packages\\Python311\\site-packages\\sklearn\\base.py:493: UserWarning: X does not have valid feature names, but LinearRegression was fitted with feature names\n",
      "  warnings.warn(\n",
      "C:\\Users\\HP\\AppData\\Local\\Packages\\PythonSoftwareFoundation.Python.3.11_qbz5n2kfra8p0\\LocalCache\\local-packages\\Python311\\site-packages\\sklearn\\base.py:493: UserWarning: X does not have valid feature names, but RandomForestRegressor was fitted with feature names\n",
      "  warnings.warn(\n",
      "C:\\Users\\HP\\AppData\\Local\\Packages\\PythonSoftwareFoundation.Python.3.11_qbz5n2kfra8p0\\LocalCache\\local-packages\\Python311\\site-packages\\sklearn\\base.py:493: UserWarning: X does not have valid feature names, but DecisionTreeRegressor was fitted with feature names\n",
      "  warnings.warn(\n",
      "C:\\Users\\HP\\AppData\\Local\\Packages\\PythonSoftwareFoundation.Python.3.11_qbz5n2kfra8p0\\LocalCache\\local-packages\\Python311\\site-packages\\sklearn\\base.py:493: UserWarning: X does not have valid feature names, but SVR was fitted with feature names\n",
      "  warnings.warn(\n"
     ]
    }
   ],
   "source": [
    "import numpy as np\n",
    "import pandas as pd\n",
    "\n",
    "# Assuming you have a trained and tuned stacking model and scaler from your previous steps\n",
    "# stacking_model_tuned = ... (your trained model)\n",
    "# scaler = ... (your scaler used during training)\n",
    "\n",
    "def predict_anemia(input_data):\n",
    "    \"\"\"\n",
    "    Predicts anemia based on the input data.\n",
    "\n",
    "    Parameters:\n",
    "    input_data (list or array): A list or array containing the feature values.\n",
    "\n",
    "    Returns:\n",
    "    str: 'Anemia' if predicted to have anemia, otherwise 'No Anemia'.\n",
    "    \"\"\"\n",
    "    # Convert input data to a numpy array and reshape it for prediction\n",
    "    input_data = np.array(input_data).reshape(1, -1)\n",
    "    \n",
    "    \n",
    "    \n",
    "    # Predict using the trained stacking model\n",
    "    prediction = stacking_model.predict(input_data)\n",
    "    \n",
    "    # Return the prediction as a readable string\n",
    "    return 'Anemia' if prediction[0] == 1 else 'No Anemia'\n",
    "\n",
    "# Example usage:\n",
    "# Example input: [Gender, Hemoglobin, MCH, MCHC, MCV]\n",
    "example_input = [1, 14.9, 22.7, 29.1, 83.7]  # Modify this list according to your dataset's features\n",
    "prediction = predict_anemia(example_input)\n",
    "print(prediction)\n"
   ]
  },
  {
   "cell_type": "code",
   "execution_count": 6,
   "metadata": {},
   "outputs": [
    {
     "name": "stdout",
     "output_type": "stream",
     "text": [
      "No Anemia\n"
     ]
    },
    {
     "name": "stderr",
     "output_type": "stream",
     "text": [
      "d:\\Projects\\LLM Models\\env\\lib\\site-packages\\sklearn\\base.py:493: UserWarning: X does not have valid feature names, but LinearRegression was fitted with feature names\n",
      "  warnings.warn(\n",
      "d:\\Projects\\LLM Models\\env\\lib\\site-packages\\sklearn\\base.py:493: UserWarning: X does not have valid feature names, but RandomForestRegressor was fitted with feature names\n",
      "  warnings.warn(\n",
      "d:\\Projects\\LLM Models\\env\\lib\\site-packages\\sklearn\\base.py:493: UserWarning: X does not have valid feature names, but DecisionTreeRegressor was fitted with feature names\n",
      "  warnings.warn(\n",
      "d:\\Projects\\LLM Models\\env\\lib\\site-packages\\sklearn\\base.py:493: UserWarning: X does not have valid feature names, but SVR was fitted with feature names\n",
      "  warnings.warn(\n"
     ]
    }
   ],
   "source": [
    "# Load the saved stacking model from the pickle file\n",
    "with open(model_file_path, 'rb') as model_file:\n",
    "    loaded_stacking_model = pickle.load(model_file)\n",
    "\n",
    "# Function to predict anemia using the loaded model\n",
    "def predict_anemia(input_data):\n",
    "    # Convert input data to a numpy array and reshape it for prediction\n",
    "    input_data = np.array(input_data).reshape(1, -1)\n",
    "    \n",
    "    # Predict using the loaded stacking model\n",
    "    prediction = loaded_stacking_model.predict(input_data)\n",
    "    \n",
    "    # Return the prediction as a readable string\n",
    "    return 'Anemia' if prediction[0] == 1 else 'No Anemia'\n",
    "\n",
    "# Example usage:\n",
    "example_input = [1, 14.9, 22.7, 29.1, 83.7]  # Modify this list according to your dataset's features\n",
    "prediction = predict_anemia(example_input)\n",
    "print(prediction)\n"
   ]
  },
  {
   "cell_type": "code",
   "execution_count": null,
   "metadata": {},
   "outputs": [],
   "source": []
  }
 ],
 "metadata": {
  "kernelspec": {
   "display_name": "Python 3",
   "language": "python",
   "name": "python3"
  },
  "language_info": {
   "codemirror_mode": {
    "name": "ipython",
    "version": 3
   },
   "file_extension": ".py",
   "mimetype": "text/x-python",
   "name": "python",
   "nbconvert_exporter": "python",
   "pygments_lexer": "ipython3",
   "version": "3.10.11"
  }
 },
 "nbformat": 4,
 "nbformat_minor": 2
}
